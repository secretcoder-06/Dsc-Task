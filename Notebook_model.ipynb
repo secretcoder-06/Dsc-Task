{
  "nbformat": 4,
  "nbformat_minor": 0,
  "metadata": {
    "colab": {
      "provenance": []
    },
    "kernelspec": {
      "name": "python3",
      "display_name": "Python 3"
    },
    "language_info": {
      "name": "python"
    }
  },
  "cells": [
    {
      "cell_type": "markdown",
      "source": [
        "Importing the required library"
      ],
      "metadata": {
        "id": "w3HwS7qg0BRM"
      }
    },
    {
      "cell_type": "code",
      "execution_count": 1,
      "metadata": {
        "id": "Cru4VChet5Og"
      },
      "outputs": [],
      "source": [
        "import pandas as pd\n",
        "import numpy as np\n",
        "import matplotlib.pyplot as plt\n",
        "from sklearn.preprocessing import OneHotEncoder\n",
        "from sklearn.preprocessing import StandardScaler\n",
        "from sklearn.cluster import KMeans\n",
        "from sklearn.model_selection import train_test_split\n",
        "from sklearn.ensemble import RandomForestClassifier\n",
        "from sklearn.metrics import classification_report\n",
        "\n"
      ]
    },
    {
      "cell_type": "markdown",
      "source": [
        "load The dataset"
      ],
      "metadata": {
        "id": "k4NWOKjK0qt-"
      }
    },
    {
      "cell_type": "code",
      "source": [
        "df = pd.read_csv(\"2021 New Coder Survey.csv\",low_memory=False)\n",
        "print(df.head())"
      ],
      "metadata": {
        "colab": {
          "base_uri": "https://localhost:8080/"
        },
        "id": "Nen6ok2cBSlJ",
        "outputId": "43310964-c43d-405b-91a5-3b4d2e3db0bf"
      },
      "execution_count": 20,
      "outputs": [
        {
          "output_type": "stream",
          "name": "stdout",
          "text": [
            "           Timestamp 1. What is your biggest reason for learning to code?  \\\n",
            "0  7/1/2021 10:10:23                       To succeed in current career     \n",
            "1  7/1/2021 10:31:01                                  To change careers     \n",
            "2  7/1/2021 10:42:31                                  To change careers     \n",
            "3  7/1/2021 11:06:43                                         As a hobby     \n",
            "4  7/1/2021 11:14:31                         To start your first career     \n",
            "\n",
            "  2. What methods have you used to learn about coding? Please select all that apply.  \\\n",
            "0  Online resources, Books, In-person bootcamps, ...                                   \n",
            "1          Online resources, Books, Online bootcamps                                   \n",
            "2  Online resources, Books, Hackathons, Meetup.co...                                   \n",
            "3                            Online resources, Books                                   \n",
            "4          Online resources, Books, Online bootcamps                                   \n",
            "\n",
            "  3. Which online learning resources have you found helpful? Please select all that apply.  \\\n",
            "0  freeCodeCamp, Mozilla Developer Network (MDN),...                                         \n",
            "1  freeCodeCamp, Mozilla Developer Network (MDN),...                                         \n",
            "2  freeCodeCamp, Mozilla Developer Network (MDN),...                                         \n",
            "3  freeCodeCamp, Mozilla Developer Network (MDN),...                                         \n",
            "4      freeCodeCamp, Stack Overflow, Coursera, Udemy                                         \n",
            "\n",
            "  4. If you have attended in-person coding-related events before, which ones have you found helpful? Please select all that apply.  \\\n",
            "0          conferences, workshops, Meetup.com events                                                                                 \n",
            "1  I haven't attended any in-person coding-relate...                                                                                 \n",
            "2                                  Meetup.com events                                                                                 \n",
            "3  I haven't attended any in-person coding-relate...                                                                                 \n",
            "4  I haven't attended any in-person coding-relate...                                                                                 \n",
            "\n",
            "  5. If you have listened to coding-related podcasts before, which ones have you found helpful? Please select all that apply.  \\\n",
            "0                                      The Changelog                                                                            \n",
            "1                 The Changelog, Code Newbie Podcast                                                                            \n",
            "2                 I haven't listened to any podcasts                                                                            \n",
            "3               Darknet Diaries, Real Python Podcast                                                                            \n",
            "4                                  Talk Python to Me                                                                            \n",
            "\n",
            "  6. If you have watched coding-related YouTube videos before, which channels have you found helpful? Please select all that apply.  \\\n",
            "0                              CS Dojo, freeCodeCamp                                                                                  \n",
            "1  Adrian Twarog, Code with Ania Kubów, Coder Cod...                                                                                  \n",
            "2  AmigosCode, Dev Ed, freeCodeCamp, Kevin Powell...                                                                                  \n",
            "3                       freeCodeCamp, Traversy Media                                                                                  \n",
            "4        freeCodeCamp, The Net Ninja, Traversy Media                                                                                  \n",
            "\n",
            "   7. About how many hours do you spend learning each week?  \\\n",
            "0                                                4.0          \n",
            "1                                               10.0          \n",
            "2                                               30.0          \n",
            "3                                                NaN          \n",
            "4                                                2.0          \n",
            "\n",
            "  8. About how many months have you been programming?  \\\n",
            "0                                                120    \n",
            "1                                                  6    \n",
            "2                                                 48    \n",
            "3                                                 36    \n",
            "4                                                 24    \n",
            "\n",
            "  9. Aside from university tuition, about how much money have you spent on learning to code so far (in US Dollars)?  \\\n",
            "0                                                NaN                                                                  \n",
            "1                                                 30                                                                  \n",
            "2                                                300                                                                  \n",
            "3                                                  0                                                                  \n",
            "4                                               5000                                                                  \n",
            "\n",
            "   ...  \\\n",
            "0  ...   \n",
            "1  ...   \n",
            "2  ...   \n",
            "3  ...   \n",
            "4  ...   \n",
            "\n",
            "  45. Please tell us how satisfied you are with each of these following aspects of your present job [Job security]  \\\n",
            "0                                 Somewhat satisfied                                                                 \n",
            "1                                  Very dissatisfied                                                                 \n",
            "2                                     Not Applicable                                                                 \n",
            "3                                                NaN                                                                 \n",
            "4                              Somewhat dissatisfied                                                                 \n",
            "\n",
            "  45. Please tell us how satisfied you are with each of these following aspects of your present job [Work-life balance]  \\\n",
            "0                              Somewhat dissatisfied                                                                      \n",
            "1                                 Somewhat satisfied                                                                      \n",
            "2                                     Not Applicable                                                                      \n",
            "3                                                NaN                                                                      \n",
            "4                                 Somewhat satisfied                                                                      \n",
            "\n",
            "  45. Please tell us how satisfied you are with each of these following aspects of your present job [Professional growth or leadership opportunities]  \\\n",
            "0                                      I do not know                                                                                                    \n",
            "1                              Somewhat dissatisfied                                                                                                    \n",
            "2                                     Not Applicable                                                                                                    \n",
            "3                                                NaN                                                                                                    \n",
            "4                              Somewhat dissatisfied                                                                                                    \n",
            "\n",
            "  45. Please tell us how satisfied you are with each of these following aspects of your present job [Workplace/company culture]  \\\n",
            "0                                 Somewhat satisfied                                                                              \n",
            "1                              Somewhat dissatisfied                                                                              \n",
            "2                                     Not Applicable                                                                              \n",
            "3                                                NaN                                                                              \n",
            "4                                 Somewhat satisfied                                                                              \n",
            "\n",
            "  45. Please tell us how satisfied you are with each of these following aspects of your present job [Diverse and inclusive work environment]  \\\n",
            "0                                 Somewhat satisfied                                                                                           \n",
            "1                                 Somewhat satisfied                                                                                           \n",
            "2                                     Not Applicable                                                                                           \n",
            "3                                                NaN                                                                                           \n",
            "4                              Somewhat dissatisfied                                                                                           \n",
            "\n",
            "  45. Please tell us how satisfied you are with each of these following aspects of your present job [Weekly workload]  \\\n",
            "0                                  Very dissatisfied                                                                    \n",
            "1                                 Somewhat satisfied                                                                    \n",
            "2                                     Not Applicable                                                                    \n",
            "3                                                NaN                                                                    \n",
            "4                              Somewhat dissatisfied                                                                    \n",
            "\n",
            "  46. About how many minutes does it take you to get to work each day?  \\\n",
            "0                                   I work from home                     \n",
            "1                                   15 to 29 minutes                     \n",
            "2                                   I am not working                     \n",
            "3                                   I am not working                     \n",
            "4                                   45 to 60 minutes                     \n",
            "\n",
            "  47. Have you served in your country's military before?  \\\n",
            "0                                                 No       \n",
            "1                                                 No       \n",
            "2                                                 No       \n",
            "3                                                 No       \n",
            "4                                                 No       \n",
            "\n",
            "  48. Do you currently receive disability benefits from your government?  \\\n",
            "0                                                 No                       \n",
            "1                                                Yes                       \n",
            "2                                                 No                       \n",
            "3                                                 No                       \n",
            "4                                                 No                       \n",
            "\n",
            "  49. Do you have high speed internet at your home?  \n",
            "0                                               Yes  \n",
            "1                                               Yes  \n",
            "2                                               Yes  \n",
            "3                                                No  \n",
            "4                                               Yes  \n",
            "\n",
            "[5 rows x 63 columns]\n"
          ]
        }
      ]
    },
    {
      "cell_type": "markdown",
      "source": [
        "Printing Column Names with Indices\n"
      ],
      "metadata": {
        "id": "xCqri9XX1JMu"
      }
    },
    {
      "cell_type": "code",
      "source": [
        "for i, col in enumerate(df.columns):\n",
        "    print(f'{i}: \"{col}\"')\n"
      ],
      "metadata": {
        "colab": {
          "base_uri": "https://localhost:8080/"
        },
        "id": "PVds4TcXBYn4",
        "outputId": "88d1e98b-747f-4021-e8d3-6f2d980bd1b4"
      },
      "execution_count": 5,
      "outputs": [
        {
          "output_type": "stream",
          "name": "stdout",
          "text": [
            "0: \"Timestamp\"\n",
            "1: \"1. What is your biggest reason for learning to code?\"\n",
            "2: \"2. What methods have you used to learn about coding? Please select all that apply.\"\n",
            "3: \"3. Which online learning resources have you found helpful? Please select all that apply.\"\n",
            "4: \"4. If you have attended in-person coding-related events before, which ones have you found helpful? Please select all that apply.\"\n",
            "5: \"5. If you have listened to coding-related podcasts before, which ones have you found helpful? Please select all that apply.\"\n",
            "6: \"6. If you have watched coding-related YouTube videos before, which channels have you found helpful? Please select all that apply.\"\n",
            "7: \"7. About how many hours do you spend learning each week?\"\n",
            "8: \"8. About how many months have you been programming?\"\n",
            "9: \"9. Aside from university tuition, about how much money have you spent on learning to code so far (in US Dollars)?\"\n",
            "10: \"10. Are you already employed in a software development job?\"\n",
            "11: \"11. If you are already employed as a developer, is this your first software development job? \"\n",
            "12: \"12. If you are NOT already a developer, are you interested in a software development career?\"\n",
            "13: \"13. If you are interested in a software development career, would you prefer to...\"\n",
            "14: \"14. Which of these careers are you interested in?\"\n",
            "15: \"15. When do you plan to start applying for developer jobs?\"\n",
            "16: \"16. About how much money do you expect to earn per year at your first developer job (in US Dollars)? \"\n",
            "17: \"17. Please select up to 3 reasons why you are interested in a software development career\"\n",
            "18: \"18. After the pandemic, how many days would you ideally like to work from home versus in an office each week?\"\n",
            "19: \"19. Are you willing to relocate for a job?\"\n",
            "20: \"20. Regarding employment status, are you currently.... \"\n",
            "21: \"21. If you are currently working, which field do you work in?\"\n",
            "22: \"22. About how much money did you earn last year from any job or employment (in US Dollars)? \"\n",
            "23: \"23. How old are you?\"\n",
            "24: \"24. Which of the following best represents how you think of yourself?\"\n",
            "25: \"25. With which of these groups do you primarily identify?\"\n",
            "26: \"26. Which part of the world do you live in?\"\n",
            "27: \"27. If you are living in the US, which state do you currently live in? \"\n",
            "28: \"28. About how many people live in your city?\"\n",
            "29: \"29. Is your country of citizenship different from the country where you live?\"\n",
            "30: \"30. Are you an ethnic minority in your country?\"\n",
            "31: \"31. Is English your second language?\"\n",
            "32: \"32. What is the highest degree or level of school you have completed?\"\n",
            "33: \"33. If you attended a university, what did you study?\"\n",
            "34: \"34. Are you currently a student attending or enrolled in regular school, that is in an elementary school, a middle school, a high school, a college, or a graduate school?\"\n",
            "35: \"35. What's your marital status?\"\n",
            "36: \"36. How many children do you have? By children, we mean any biological, step, or adopted children.\"\n",
            "37: \"37. Do you financially support any dependents, older relatives or relatives with disabilities?\"\n",
            "38: \"38. Do you think you have enough savings to survive for 3 months with no income?\"\n",
            "39: \"39. How much debt does your household have? [Car loans]\"\n",
            "40: \"39. How much debt does your household have? [Credit Cards]\"\n",
            "41: \"39. How much debt does your household have? [Medical Loans]\"\n",
            "42: \"39. How much debt does your household have? [Mortgages]\"\n",
            "43: \"39. How much debt does your household have? [Payday Loans]\"\n",
            "44: \"39. How much debt does your household have? [Student Loans]\"\n",
            "45: \"39. How much debt does your household have? [Other]\"\n",
            "46: \"40. How long have you been working in your current job?\"\n",
            "47: \"41. Before you got your last job, how many months did you spend looking for a job?\"\n",
            "48: \"42. If you are working, thinking about the next 12 months, how likely do you think it is that you will lose your job or be laid off?  \"\n",
            "49: \"43. If you are working, how easy would it be for you to find a job with another employer with approximately the same income and fringe benefits you now have? \"\n",
            "50: \"44. Do you consider yourself under-employed? (Under-employment means working a job that is below your education level.)\"\n",
            "51: \"45. Please tell us how satisfied you are with each of these following aspects of your present job [Earnings]\"\n",
            "52: \"45. Please tell us how satisfied you are with each of these following aspects of your present job [Benefits]\"\n",
            "53: \"45. Please tell us how satisfied you are with each of these following aspects of your present job [Job security]\"\n",
            "54: \"45. Please tell us how satisfied you are with each of these following aspects of your present job [Work-life balance]\"\n",
            "55: \"45. Please tell us how satisfied you are with each of these following aspects of your present job [Professional growth or leadership opportunities]\"\n",
            "56: \"45. Please tell us how satisfied you are with each of these following aspects of your present job [Workplace/company culture]\"\n",
            "57: \"45. Please tell us how satisfied you are with each of these following aspects of your present job [Diverse and inclusive work environment]\"\n",
            "58: \"45. Please tell us how satisfied you are with each of these following aspects of your present job [Weekly workload]\"\n",
            "59: \"46. About how many minutes does it take you to get to work each day?\"\n",
            "60: \"47. Have you served in your country's military before?\"\n",
            "61: \"48. Do you currently receive disability benefits from your government?\"\n",
            "62: \"49. Do you have high speed internet at your home?\"\n"
          ]
        }
      ]
    },
    {
      "cell_type": "markdown",
      "source": [
        "Checking for Missing Values in Relevant Columns"
      ],
      "metadata": {
        "id": "XEJ6s4VY7VN0"
      }
    },
    {
      "cell_type": "code",
      "source": [
        "df.columns = df.columns.str.strip()\n",
        "income_column = '22. About how much money did you earn last year from any job or employment (in US Dollars)?'\n",
        "podcast_column = '5. If you have listened to coding-related podcasts before, which ones have you found helpful? Please select all that apply.'\n",
        "missing_income = df[income_column].isnull().sum()\n",
        "missing_podcast = df[podcast_column].isnull().sum()\n",
        "print(f\"Missing values in income column: {missing_income}\")\n",
        "print(f\"Missing values in podcast column: {missing_podcast}\")\n",
        "unique_income_values = df[income_column].unique()\n",
        "print(f\"Unique values in income column: {unique_income_values}\")"
      ],
      "metadata": {
        "colab": {
          "base_uri": "https://localhost:8080/"
        },
        "id": "Xc0GroP_Bnpl",
        "outputId": "aae748a1-d9b2-4e26-b07a-d3a09da9cd8e"
      },
      "execution_count": 6,
      "outputs": [
        {
          "output_type": "stream",
          "name": "stdout",
          "text": [
            "Missing values in income column: 7979\n",
            "Missing values in podcast column: 1536\n",
            "Unique values in income column: [nan 'Under $1,000' '$40,000 to $49,999' '$75,000 to $89,999'\n",
            " '$60,000 to $74,999' '$1,000 to $2,999' '$10,000 to $14,999'\n",
            " '$20,000 to $24,999' '$35,000 to $39,999' '$25,000 to $29,999'\n",
            " '$30,000 to $34,999' '$3,000 to $4,999' '$50,000 to $59,999'\n",
            " '$15,000 to $19,999' '$7,000 to $9,999' '$90,000 to $119,999'\n",
            " '$5,000 to $6,999' '$120,000 to $159,999' \"I don't want to answer\"\n",
            " '$200,000 to $249,999' '$250,000 or over' 'I don’t know'\n",
            " '$160,000 to $199,999']\n"
          ]
        }
      ]
    },
    {
      "cell_type": "markdown",
      "source": [
        "Drop Rows with Missing Values and Convert Income to Numeric"
      ],
      "metadata": {
        "id": "N3TNiNp_8CNi"
      }
    },
    {
      "cell_type": "code",
      "source": [
        "df[income_column] = df[income_column].astype(str)\n",
        "df[income_column] = df[income_column].str.replace(r'[^0-9]', '', regex=True)\n",
        "df[income_column] = pd.to_numeric(df[income_column], errors='coerce')\n",
        "missing_income = df[income_column].isnull().sum()\n",
        "print(f\"Missing values in income column after conversion: {missing_income}\")\n"
      ],
      "metadata": {
        "colab": {
          "base_uri": "https://localhost:8080/"
        },
        "id": "-tRzRd9MC5dD",
        "outputId": "d73c7b69-b773-4514-f703-76dfc530b258"
      },
      "execution_count": 7,
      "outputs": [
        {
          "output_type": "stream",
          "name": "stdout",
          "text": [
            "Missing values in income column after conversion: 8161\n"
          ]
        }
      ]
    },
    {
      "cell_type": "markdown",
      "source": [
        "Cleaned data"
      ],
      "metadata": {
        "id": "YU-YcfOODnhy"
      }
    },
    {
      "cell_type": "code",
      "source": [
        "df_clean = df.dropna(subset=[income_column, podcast_column])\n",
        "print(f\"Shape after dropping rows with missing values: {df_clean.shape}\")\n",
        "print(df_clean.head())"
      ],
      "metadata": {
        "colab": {
          "base_uri": "https://localhost:8080/"
        },
        "id": "OVMYBwhpDrD_",
        "outputId": "e8579d16-7284-4e0e-a442-c4cd137081bd"
      },
      "execution_count": 8,
      "outputs": [
        {
          "output_type": "stream",
          "name": "stdout",
          "text": [
            "Shape after dropping rows with missing values: (9272, 63)\n",
            "           Timestamp 1. What is your biggest reason for learning to code?  \\\n",
            "1  7/1/2021 10:31:01                                  To change careers     \n",
            "4  7/1/2021 11:14:31                         To start your first career     \n",
            "5  7/1/2021 11:17:08                       To succeed in current career     \n",
            "6  7/1/2021 11:21:26                         To start your first career     \n",
            "7  7/1/2021 11:24:57                                         As a hobby     \n",
            "\n",
            "  2. What methods have you used to learn about coding? Please select all that apply.  \\\n",
            "1          Online resources, Books, Online bootcamps                                   \n",
            "4          Online resources, Books, Online bootcamps                                   \n",
            "5               Online resources, Books, Conferences                                   \n",
            "6  Online resources, In-person bootcamps, Meetup....                                   \n",
            "7  Online resources, Hackathons, Workshops, Tinke...                                   \n",
            "\n",
            "  3. Which online learning resources have you found helpful? Please select all that apply.  \\\n",
            "1  freeCodeCamp, Mozilla Developer Network (MDN),...                                         \n",
            "4      freeCodeCamp, Stack Overflow, Coursera, Udemy                                         \n",
            "5  freeCodeCamp, Mozilla Developer Network (MDN),...                                         \n",
            "6  freeCodeCamp, Mozilla Developer Network (MDN),...                                         \n",
            "7  freeCodeCamp, Mozilla Developer Network (MDN),...                                         \n",
            "\n",
            "  4. If you have attended in-person coding-related events before, which ones have you found helpful? Please select all that apply.  \\\n",
            "1  I haven't attended any in-person coding-relate...                                                                                 \n",
            "4  I haven't attended any in-person coding-relate...                                                                                 \n",
            "5  I haven't attended any in-person coding-relate...                                                                                 \n",
            "6       freeCodeCamp study groups, Meetup.com events                                                                                 \n",
            "7  I haven't attended any in-person coding-relate...                                                                                 \n",
            "\n",
            "  5. If you have listened to coding-related podcasts before, which ones have you found helpful? Please select all that apply.  \\\n",
            "1                 The Changelog, Code Newbie Podcast                                                                            \n",
            "4                                  Talk Python to Me                                                                            \n",
            "5                                    Ladybug Podcast                                                                            \n",
            "6                           Syntax.fm, Indie Hackers                                                                            \n",
            "7                       The Changelog, Indie Hackers                                                                            \n",
            "\n",
            "  6. If you have watched coding-related YouTube videos before, which channels have you found helpful? Please select all that apply.  \\\n",
            "1  Adrian Twarog, Code with Ania Kubów, Coder Cod...                                                                                  \n",
            "4        freeCodeCamp, The Net Ninja, Traversy Media                                                                                  \n",
            "5  Coder Coder, Coding Train, freeCodeCamp, Googl...                                                                                  \n",
            "6  Ben Awad, Coding Train, DesignCourse, Dev Ed, ...                                                                                  \n",
            "7  Ben Awad, Coding Train, Dev Ed, freeCodeCamp, ...                                                                                  \n",
            "\n",
            "   7. About how many hours do you spend learning each week?  \\\n",
            "1                                               10.0          \n",
            "4                                                2.0          \n",
            "5                                               10.0          \n",
            "6                                                5.0          \n",
            "7                                               20.0          \n",
            "\n",
            "  8. About how many months have you been programming?  \\\n",
            "1                                                  6    \n",
            "4                                                 24    \n",
            "5                                                 50    \n",
            "6                                                 36    \n",
            "7                                                 30    \n",
            "\n",
            "  9. Aside from university tuition, about how much money have you spent on learning to code so far (in US Dollars)?  \\\n",
            "1                                                 30                                                                  \n",
            "4                                               5000                                                                  \n",
            "5                                                200                                                                  \n",
            "6                                              10500                                                                  \n",
            "7                                                  0                                                                  \n",
            "\n",
            "   ...  \\\n",
            "1  ...   \n",
            "4  ...   \n",
            "5  ...   \n",
            "6  ...   \n",
            "7  ...   \n",
            "\n",
            "  45. Please tell us how satisfied you are with each of these following aspects of your present job [Job security]  \\\n",
            "1                                  Very dissatisfied                                                                 \n",
            "4                              Somewhat dissatisfied                                                                 \n",
            "5                              Somewhat dissatisfied                                                                 \n",
            "6                                     Very satisfied                                                                 \n",
            "7                                     Very satisfied                                                                 \n",
            "\n",
            "  45. Please tell us how satisfied you are with each of these following aspects of your present job [Work-life balance]  \\\n",
            "1                                 Somewhat satisfied                                                                      \n",
            "4                                 Somewhat satisfied                                                                      \n",
            "5                                     Very satisfied                                                                      \n",
            "6                                     Very satisfied                                                                      \n",
            "7                                 Somewhat satisfied                                                                      \n",
            "\n",
            "  45. Please tell us how satisfied you are with each of these following aspects of your present job [Professional growth or leadership opportunities]  \\\n",
            "1                              Somewhat dissatisfied                                                                                                    \n",
            "4                              Somewhat dissatisfied                                                                                                    \n",
            "5                              Somewhat dissatisfied                                                                                                    \n",
            "6                                     Very satisfied                                                                                                    \n",
            "7                                     Very satisfied                                                                                                    \n",
            "\n",
            "  45. Please tell us how satisfied you are with each of these following aspects of your present job [Workplace/company culture]  \\\n",
            "1                              Somewhat dissatisfied                                                                              \n",
            "4                                 Somewhat satisfied                                                                              \n",
            "5                              Somewhat dissatisfied                                                                              \n",
            "6                                     Very satisfied                                                                              \n",
            "7                                     Very satisfied                                                                              \n",
            "\n",
            "  45. Please tell us how satisfied you are with each of these following aspects of your present job [Diverse and inclusive work environment]  \\\n",
            "1                                 Somewhat satisfied                                                                                           \n",
            "4                              Somewhat dissatisfied                                                                                           \n",
            "5                              Somewhat dissatisfied                                                                                           \n",
            "6                                     Very satisfied                                                                                           \n",
            "7                                     Very satisfied                                                                                           \n",
            "\n",
            "  45. Please tell us how satisfied you are with each of these following aspects of your present job [Weekly workload]  \\\n",
            "1                                 Somewhat satisfied                                                                    \n",
            "4                              Somewhat dissatisfied                                                                    \n",
            "5                                 Somewhat satisfied                                                                    \n",
            "6                                     Very satisfied                                                                    \n",
            "7                                     Very satisfied                                                                    \n",
            "\n",
            "  46. About how many minutes does it take you to get to work each day?  \\\n",
            "1                                   15 to 29 minutes                     \n",
            "4                                   45 to 60 minutes                     \n",
            "5                                   I work from home                     \n",
            "6                                   I work from home                     \n",
            "7                                   I work from home                     \n",
            "\n",
            "  47. Have you served in your country's military before?  \\\n",
            "1                                                 No       \n",
            "4                                                 No       \n",
            "5                                                 No       \n",
            "6                                                 No       \n",
            "7                                                 No       \n",
            "\n",
            "  48. Do you currently receive disability benefits from your government?  \\\n",
            "1                                                Yes                       \n",
            "4                                                 No                       \n",
            "5                                                 No                       \n",
            "6                                                 No                       \n",
            "7                                                 No                       \n",
            "\n",
            "  49. Do you have high speed internet at your home?  \n",
            "1                                               Yes  \n",
            "4                                               Yes  \n",
            "5                                               Yes  \n",
            "6                                               Yes  \n",
            "7                                               Yes  \n",
            "\n",
            "[5 rows x 63 columns]\n"
          ]
        }
      ]
    },
    {
      "cell_type": "markdown",
      "source": [
        "Encode Categorical Features and Standardize Data"
      ],
      "metadata": {
        "id": "LywtcUpVD1_7"
      }
    },
    {
      "cell_type": "code",
      "source": [
        "encoder = OneHotEncoder()\n",
        "encoded_features = encoder.fit_transform(df_clean[[podcast_column]]).toarray()\n",
        "X = np.hstack((df_clean[[income_column]].values.reshape(-1, 1), encoded_features))\n",
        "scaler = StandardScaler()\n",
        "X_scaled = scaler.fit_transform(X)\n"
      ],
      "metadata": {
        "id": "Nv3qlTqkDtgZ"
      },
      "execution_count": 9,
      "outputs": []
    },
    {
      "cell_type": "markdown",
      "source": [
        "Determining the Optimal Number of Clusters"
      ],
      "metadata": {
        "id": "bAaNZ_0sEf0W"
      }
    },
    {
      "cell_type": "code",
      "source": [
        "wcss = []\n",
        "for i in range(1, 11):\n",
        "    kmeans = KMeans(n_clusters=i, init='k-means++', max_iter=300, n_init=10, random_state=0)\n",
        "    kmeans.fit(X_scaled)\n",
        "    wcss.append(kmeans.inertia_)\n",
        "\n",
        "plt.plot(range(1, 11), wcss)\n",
        "plt.title('Elbow Method')\n",
        "plt.xlabel('Number of Clusters')\n",
        "plt.ylabel('WCSS')\n",
        "plt.show()"
      ],
      "metadata": {
        "colab": {
          "base_uri": "https://localhost:8080/",
          "height": 472
        },
        "id": "crtkQjS1EffZ",
        "outputId": "964ff2ed-4235-4801-d69e-c3e3f27ebab1"
      },
      "execution_count": 10,
      "outputs": [
        {
          "output_type": "display_data",
          "data": {
            "text/plain": [
              "<Figure size 640x480 with 1 Axes>"
            ],
            "image/png": "[encoded data removed]"
          },
          "metadata": {}
        }
      ]
    },
    {
      "cell_type": "markdown",
      "source": [
        "Applying K-Means Clustering"
      ],
      "metadata": {
        "id": "nb2Aq0eQEy8R"
      }
    },
    {
      "cell_type": "code",
      "source": [
        "\n",
        "optimal_clusters = 3\n",
        "kmeans = KMeans(n_clusters=optimal_clusters, init='k-means++', max_iter=300, n_init=10, random_state=0)\n",
        "y_kmeans = kmeans.fit_predict(X_scaled)\n",
        "df_clean.loc[:, 'Cluster'] = y_kmeans\n",
        "numeric_columns = df_clean.select_dtypes(include=[np.number]).columns\n",
        "cluster_analysis = df_clean.groupby('Cluster')[numeric_columns].mean()\n",
        "print(cluster_analysis)"
      ],
      "metadata": {
        "colab": {
          "base_uri": "https://localhost:8080/"
        },
        "id": "-TzqRDxwqLBr",
        "outputId": "20f8cbe3-efeb-425f-9996-e8956e80061e"
      },
      "execution_count": 13,
      "outputs": [
        {
          "output_type": "stream",
          "name": "stdout",
          "text": [
            "         7. About how many hours do you spend learning each week?  \\\n",
            "Cluster                                                             \n",
            "0                                                16.000000          \n",
            "1                                                11.962780          \n",
            "2                                                12.331707          \n",
            "\n",
            "         22. About how much money did you earn last year from any job or employment (in US Dollars)?  \\\n",
            "Cluster                                                                                                \n",
            "0                                             6.000075e+09                                             \n",
            "1                                             6.730053e+09                                             \n",
            "2                                             7.680273e+09                                             \n",
            "\n",
            "         23. How old are you?  \\\n",
            "Cluster                         \n",
            "0                   27.000000   \n",
            "1                   30.559551   \n",
            "2                   30.207317   \n",
            "\n",
            "         41. Before you got your last job, how many months did you spend looking for a job?  \\\n",
            "Cluster                                                                                       \n",
            "0                                             8.000000e+00                                    \n",
            "1                                             1.206855e+09                                    \n",
            "2                                             3.025000e+00                                    \n",
            "\n",
            "         42. If you are working, thinking about the next 12 months, how likely do you think it is that you will lose your job or be laid off?  \\\n",
            "Cluster                                                                                                                                         \n",
            "0                                                      NaN                                                                                      \n",
            "1                                                 2.973319                                                                                      \n",
            "2                                                 2.782609                                                                                      \n",
            "\n",
            "         43. If you are working, how easy would it be for you to find a job with another employer with approximately the same income and fringe benefits you now have?  \\\n",
            "Cluster                                                                                                                                                                  \n",
            "0                                                      NaN                                                                                                               \n",
            "1                                                 5.619625                                                                                                               \n",
            "2                                                 5.838235                                                                                                               \n",
            "\n",
            "         Cluster  \n",
            "Cluster           \n",
            "0            0.0  \n",
            "1            1.0  \n",
            "2            2.0  \n"
          ]
        }
      ]
    },
    {
      "cell_type": "markdown",
      "source": [
        "Now Implementing Classification by creating New Feature for High/Low Income"
      ],
      "metadata": {
        "id": "9h0OyF6sqogZ"
      }
    },
    {
      "cell_type": "code",
      "source": [
        "income_column = '22. About how much money did you earn last year from any job or employment (in US Dollars)?'\n",
        "df[income_column] = df[income_column].astype(str)\n",
        "df[income_column] = df[income_column].str.replace(r'[^0-9]', '', regex=True)\n",
        "df[income_column] = pd.to_numeric(df[income_column], errors='coerce')\n",
        "income_threshold = 30000\n",
        "df['income_label'] = (df[income_column] >= income_threshold).astype(int)\n",
        "df['income_label'].value_counts()\n",
        "\n"
      ],
      "metadata": {
        "colab": {
          "base_uri": "https://localhost:8080/"
        },
        "id": "6ZWhuKYAqzKz",
        "outputId": "708899dc-ca4a-4b45-b6fd-537667730ebb"
      },
      "execution_count": 15,
      "outputs": [
        {
          "output_type": "execute_result",
          "data": {
            "text/plain": [
              "income_label\n",
              "0    9770\n",
              "1    8356\n",
              "Name: count, dtype: int64"
            ]
          },
          "metadata": {},
          "execution_count": 15
        }
      ]
    },
    {
      "cell_type": "markdown",
      "source": [
        " Feature Selection"
      ],
      "metadata": {
        "id": "ALGwjvpXtJmI"
      }
    },
    {
      "cell_type": "code",
      "source": [
        "selected_features = [\n",
        "    '7. About how many hours do you spend learning each week?',\n",
        "    '8. About how many months have you been programming?',\n",
        "    '10. Are you already employed in a software development job?',\n",
        "    '20. Regarding employment status, are you currently....',\n",
        "    '23. How old are you?',\n",
        "    '45. Please tell us how satisfied you are with each of these following aspects of your present job [Earnings]',\n",
        "    '45. Please tell us how satisfied you are with each of these following aspects of your present job [Benefits]',\n",
        "    '45. Please tell us how satisfied you are with each of these following aspects of your present job [Job security]',\n",
        "    '45. Please tell us how satisfied you are with each of these following aspects of your present job [Work-life balance]',\n",
        "    '45. Please tell us how satisfied you are with each of these following aspects of your present job [Professional growth or leadership opportunities]',\n",
        "    '45. Please tell us how satisfied you are with each of these following aspects of your present job [Workplace/company culture]',\n",
        "    '45. Please tell us how satisfied you are with each of these following aspects of your present job [Diverse and inclusive work environment]',\n",
        "    '45. Please tell us how satisfied you are with each of these following aspects of your present job [Weekly workload]'\n",
        "]\n",
        "df_clean = df.dropna(subset=selected_features + ['income_label'])\n",
        "df_encoded = pd.get_dummies(df_clean[selected_features], drop_first=True)\n",
        "X = df_encoded\n",
        "y = df_clean['income_label']\n",
        "X = X.fillna(X.mean())\n",
        "X.shape, y.shape"
      ],
      "metadata": {
        "colab": {
          "base_uri": "https://localhost:8080/"
        },
        "id": "cWDse6Hss4OL",
        "outputId": "9d151fbc-db3c-475b-e59a-986f5cc873e7"
      },
      "execution_count": 16,
      "outputs": [
        {
          "output_type": "execute_result",
          "data": {
            "text/plain": [
              "((11006, 590), (11006,))"
            ]
          },
          "metadata": {},
          "execution_count": 16
        }
      ]
    },
    {
      "cell_type": "markdown",
      "source": [
        " Train-Test Split"
      ],
      "metadata": {
        "id": "sz8nDSiVtGiI"
      }
    },
    {
      "cell_type": "code",
      "source": [
        "X_train, X_test, y_train, y_test = train_test_split(X, y, test_size=0.3, random_state=42)"
      ],
      "metadata": {
        "id": "R_0_NItotNFj"
      },
      "execution_count": 17,
      "outputs": []
    },
    {
      "cell_type": "markdown",
      "source": [
        "Model Training"
      ],
      "metadata": {
        "id": "hazPunxStRMd"
      }
    },
    {
      "cell_type": "code",
      "source": [
        "clf = RandomForestClassifier(random_state=42)\n",
        "clf.fit(X_train, y_train)"
      ],
      "metadata": {
        "colab": {
          "base_uri": "https://localhost:8080/",
          "height": 74
        },
        "id": "HvD0_WeKtUuf",
        "outputId": "c47774cd-5471-4d6e-8982-a6df8bf1e274"
      },
      "execution_count": 18,
      "outputs": [
        {
          "output_type": "execute_result",
          "data": {
            "text/plain": [
              "RandomForestClassifier(random_state=42)"
            ],
            "text/html": [
              "<style>#sk-container-id-1 {color: black;background-color: white;}#sk-container-id-1 pre{padding: 0;}#sk-container-id-1 div.sk-toggleable {background-color: white;}#sk-container-id-1 label.sk-toggleable__label {cursor: pointer;display: block;width: 100%;margin-bottom: 0;padding: 0.3em;box-sizing: border-box;text-align: center;}#sk-container-id-1 label.sk-toggleable__label-arrow:before {content: \"▸\";float: left;margin-right: 0.25em;color: #696969;}#sk-container-id-1 label.sk-toggleable__label-arrow:hover:before {color: black;}#sk-container-id-1 div.sk-estimator:hover label.sk-toggleable__label-arrow:before {color: black;}#sk-container-id-1 div.sk-toggleable__content {max-height: 0;max-width: 0;overflow: hidden;text-align: left;background-color: #f0f8ff;}#sk-container-id-1 div.sk-toggleable__content pre {margin: 0.2em;color: black;border-radius: 0.25em;background-color: #f0f8ff;}#sk-container-id-1 input.sk-toggleable__control:checked~div.sk-toggleable__content {max-height: 200px;max-width: 100%;overflow: auto;}#sk-container-id-1 input.sk-toggleable__control:checked~label.sk-toggleable__label-arrow:before {content: \"▾\";}#sk-container-id-1 div.sk-estimator input.sk-toggleable__control:checked~label.sk-toggleable__label {background-color: #d4ebff;}#sk-container-id-1 div.sk-label input.sk-toggleable__control:checked~label.sk-toggleable__label {background-color: #d4ebff;}#sk-container-id-1 input.sk-hidden--visually {border: 0;clip: rect(1px 1px 1px 1px);clip: rect(1px, 1px, 1px, 1px);height: 1px;margin: -1px;overflow: hidden;padding: 0;position: absolute;width: 1px;}#sk-container-id-1 div.sk-estimator {font-family: monospace;background-color: #f0f8ff;border: 1px dotted black;border-radius: 0.25em;box-sizing: border-box;margin-bottom: 0.5em;}#sk-container-id-1 div.sk-estimator:hover {background-color: #d4ebff;}#sk-container-id-1 div.sk-parallel-item::after {content: \"\";width: 100%;border-bottom: 1px solid gray;flex-grow: 1;}#sk-container-id-1 div.sk-label:hover label.sk-toggleable__label {background-color: #d4ebff;}#sk-container-id-1 div.sk-serial::before {content: \"\";position: absolute;border-left: 1px solid gray;box-sizing: border-box;top: 0;bottom: 0;left: 50%;z-index: 0;}#sk-container-id-1 div.sk-serial {display: flex;flex-direction: column;align-items: center;background-color: white;padding-right: 0.2em;padding-left: 0.2em;position: relative;}#sk-container-id-1 div.sk-item {position: relative;z-index: 1;}#sk-container-id-1 div.sk-parallel {display: flex;align-items: stretch;justify-content: center;background-color: white;position: relative;}#sk-container-id-1 div.sk-item::before, #sk-container-id-1 div.sk-parallel-item::before {content: \"\";position: absolute;border-left: 1px solid gray;box-sizing: border-box;top: 0;bottom: 0;left: 50%;z-index: -1;}#sk-container-id-1 div.sk-parallel-item {display: flex;flex-direction: column;z-index: 1;position: relative;background-color: white;}#sk-container-id-1 div.sk-parallel-item:first-child::after {align-self: flex-end;width: 50%;}#sk-container-id-1 div.sk-parallel-item:last-child::after {align-self: flex-start;width: 50%;}#sk-container-id-1 div.sk-parallel-item:only-child::after {width: 0;}#sk-container-id-1 div.sk-dashed-wrapped {border: 1px dashed gray;margin: 0 0.4em 0.5em 0.4em;box-sizing: border-box;padding-bottom: 0.4em;background-color: white;}#sk-container-id-1 div.sk-label label {font-family: monospace;font-weight: bold;display: inline-block;line-height: 1.2em;}#sk-container-id-1 div.sk-label-container {text-align: center;}#sk-container-id-1 div.sk-container {/* jupyter's `normalize.less` sets `[hidden] { display: none; }` but bootstrap.min.css set `[hidden] { display: none !important; }` so we also need the `!important` here to be able to override the default hidden behavior on the sphinx rendered scikit-learn.org. See: https://github.com/scikit-learn/scikit-learn/issues/21755 */display: inline-block !important;position: relative;}#sk-container-id-1 div.sk-text-repr-fallback {display: none;}</style><div id=\"sk-container-id-1\" class=\"sk-top-container\"><div class=\"sk-text-repr-fallback\"><pre>RandomForestClassifier(random_state=42)</pre><b>In a Jupyter environment, please rerun this cell to show the HTML representation or trust the notebook. <br />On GitHub, the HTML representation is unable to render, please try loading this page with nbviewer.org.</b></div><div class=\"sk-container\" hidden><div class=\"sk-item\"><div class=\"sk-estimator sk-toggleable\"><input class=\"sk-toggleable__control sk-hidden--visually\" id=\"sk-estimator-id-1\" type=\"checkbox\" checked><label for=\"sk-estimator-id-1\" class=\"sk-toggleable__label sk-toggleable__label-arrow\">RandomForestClassifier</label><div class=\"sk-toggleable__content\"><pre>RandomForestClassifier(random_state=42)</pre></div></div></div></div></div>"
            ]
          },
          "metadata": {},
          "execution_count": 18
        }
      ]
    },
    {
      "cell_type": "markdown",
      "source": [
        "Model Evaluation"
      ],
      "metadata": {
        "id": "EAMKWcFrtbGB"
      }
    },
    {
      "cell_type": "code",
      "source": [
        "y_pred = clf.predict(X_test)\n",
        "print(classification_report(y_test, y_pred))"
      ],
      "metadata": {
        "colab": {
          "base_uri": "https://localhost:8080/"
        },
        "id": "dVzv_ClotdXB",
        "outputId": "691a1f7e-e7a4-4473-eeda-39ea6f570655"
      },
      "execution_count": 19,
      "outputs": [
        {
          "output_type": "stream",
          "name": "stdout",
          "text": [
            "              precision    recall  f1-score   support\n",
            "\n",
            "           0       0.79      0.66      0.72      1222\n",
            "           1       0.82      0.90      0.86      2080\n",
            "\n",
            "    accuracy                           0.81      3302\n",
            "   macro avg       0.80      0.78      0.79      3302\n",
            "weighted avg       0.81      0.81      0.81      3302\n",
            "\n"
          ]
        }
      ]
    }
  ]
}